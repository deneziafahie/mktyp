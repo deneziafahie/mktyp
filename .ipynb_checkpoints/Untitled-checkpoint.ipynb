{
 "cells": [
  {
   "cell_type": "code",
   "execution_count": 3,
   "metadata": {},
   "outputs": [
    {
     "name": "stdout",
     "output_type": "stream",
     "text": [
      "MPH to FPS Calculator\n",
      "Enter a speed in mph:65\n",
      "in 1 second you will go 95.33333333333333 feet\n"
     ]
    }
   ],
   "source": [
    "# define the mph2fps function here\n",
    "def mph2fps(speed):\n",
    "    return speed*5280.0/3600\n",
    "\n",
    "print(\"MPH to FPS Calculator\")\n",
    "speed = float(input(\"Enter a speed in mph:\"))\n",
    "fps = mph2fps(speed)\n",
    "print(\"in 1 second you will go \"+str(fps)+\" feet\")"
   ]
  },
  {
   "cell_type": "code",
   "execution_count": null,
   "metadata": {},
   "outputs": [],
   "source": []
  }
 ],
 "metadata": {
  "kernelspec": {
   "display_name": "Python 3",
   "language": "python",
   "name": "python3"
  },
  "language_info": {
   "codemirror_mode": {
    "name": "ipython",
    "version": 3
   },
   "file_extension": ".py",
   "mimetype": "text/x-python",
   "name": "python",
   "nbconvert_exporter": "python",
   "pygments_lexer": "ipython3",
   "version": "3.7.0"
  }
 },
 "nbformat": 4,
 "nbformat_minor": 2
}
